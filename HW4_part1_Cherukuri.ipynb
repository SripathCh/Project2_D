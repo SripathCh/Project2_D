{
 "cells": [
  {
   "cell_type": "markdown",
   "metadata": {},
   "source": [
    "## HW4 PART1 : K-MEANS CLUSTERING ON IRIS DATASET\n",
    "##### NAME : SRIPATH CHERUKURI\n",
    "##### G-NO : G01395231"
   ]
  },
  {
   "cell_type": "markdown",
   "metadata": {},
   "source": [
    "#### importing required packages"
   ]
  },
  {
   "cell_type": "code",
   "execution_count": 81,
   "metadata": {},
   "outputs": [],
   "source": [
    "# importing numpy to handle with array data\n",
    "import numpy as np\n",
    "\n",
    "# importing pandas to read the text data initially\n",
    "import pandas as pd\n",
    "\n",
    "# importing the matplotlib to plot graphs in the implementation\n",
    "import matplotlib.pyplot as plt\n",
    "\n",
    "# importing the tsne (T-distributed stochastic neighbor embedding) for dimensionality reduction\n",
    "from sklearn.manifold import TSNE"
   ]
  },
  {
   "cell_type": "markdown",
   "metadata": {},
   "source": [
    "#### defining the euclidean distance function to calculate the distsances between the centroid and the points in the cluster"
   ]
  },
  {
   "cell_type": "code",
   "execution_count": 82,
   "metadata": {},
   "outputs": [],
   "source": [
    "# using euclidean distance as a metric in this implementation\n",
    "def distance_calculation(point1, point2):\n",
    "    # returning the squared sum of the different points - euclidean distance\n",
    "    return np.sqrt(np.sum((point1-point2)**2))"
   ]
  },
  {
   "cell_type": "markdown",
   "metadata": {},
   "source": [
    "#### defining a function to calculate the nearest centroids"
   ]
  },
  {
   "cell_type": "code",
   "execution_count": 83,
   "metadata": {},
   "outputs": [],
   "source": [
    "def find_nearest_pivot(_n_sample,__pivots):\n",
    "    distances =[]\n",
    "    # traversing through all centroids\n",
    "    for pivot in __pivots:\n",
    "        # calculating the euclidean distance for the each centroid and the data point\n",
    "        distances.append(distance_calculation(_n_sample, pivot))\n",
    "    # now we are getting the index of the smallest value in the calculated euclidean distances\n",
    "    nearest_pivot_index = np.argmin(distances)\n",
    "    # returining the value\n",
    "    return nearest_pivot_index"
   ]
  },
  {
   "cell_type": "markdown",
   "metadata": {},
   "source": [
    "#### defining a function to create clusters "
   ]
  },
  {
   "cell_type": "code",
   "execution_count": 84,
   "metadata": {},
   "outputs": [],
   "source": [
    "def make_bundles(_n_bundles, _dataset, _pivots):\n",
    "    bundles = []\n",
    "    # traversing thorugh the number of clusters \n",
    "    for index in range(_n_bundles):\n",
    "        # forming a list of lists\n",
    "        bundles.append([])\n",
    "        # traversing thorugh the read data\n",
    "    for index, n_sample in enumerate(_dataset):\n",
    "        # calling the function to find nearest centroids\n",
    "        pivot_index = find_nearest_pivot(n_sample, _pivots)\n",
    "        # and appendind their indexes for later use\n",
    "        bundles[pivot_index].append(index)\n",
    "    # returning the created clusters\n",
    "    return bundles"
   ]
  },
  {
   "cell_type": "markdown",
   "metadata": {},
   "source": [
    "#### defining a function to update centroids after calculating distances and checking for variance"
   ]
  },
  {
   "cell_type": "code",
   "execution_count": 85,
   "metadata": {},
   "outputs": [],
   "source": [
    "def updated_pivots(_n_bundles,_dataset, _bundles):\n",
    "    # updating the centroids based on mean calculated below\n",
    "    pivots = np.zeros((_n_bundles, _dataset.shape[1]))\n",
    "    # iterating through the clusters\n",
    "    for bundle_index, bundle in enumerate(_bundles):\n",
    "        # omputing mean of clusters to find new centroids\n",
    "        bundle_mean = np.mean(_dataset[bundle], axis=0)\n",
    "        pivots[bundle_index] = bundle_mean\n",
    "    # returning centroids\n",
    "    return pivots"
   ]
  },
  {
   "cell_type": "markdown",
   "metadata": {},
   "source": [
    "#### function to check variance i.e, if there is better centroids available"
   ]
  },
  {
   "cell_type": "code",
   "execution_count": 86,
   "metadata": {},
   "outputs": [],
   "source": [
    "def check_for_variance(_n_bundles, _old_pivots, _pivots):\n",
    "    dists = []\n",
    "    # iterating through the three clusters in this implmentation\n",
    "    for index in range(_n_bundles):\n",
    "        # checking if theres an difference between the old centroids and new centroids\n",
    "        dists.append(distance_calculation(_old_pivots[index], _pivots[index]))\n",
    "    # if there's no difference then we return true and stop the clustering algorithm\n",
    "    if sum(dists)==0:\n",
    "        return True\n",
    "    else:\n",
    "        # else we return false and the algorithm continues running\n",
    "        return False"
   ]
  },
  {
   "cell_type": "markdown",
   "metadata": {},
   "source": [
    "#### defining function to start k means clustering "
   ]
  },
  {
   "cell_type": "code",
   "execution_count": 87,
   "metadata": {},
   "outputs": [],
   "source": [
    "def k_means(dataset, n_bundles, pivots, repeat_max):\n",
    "    # initializng a intial variable for iterating through max number of iteraions\n",
    "    i=0\n",
    "    # initializing centroids list\n",
    "    pivots = []\n",
    "    # getting reandom indices from the dataset read from text file\n",
    "    arbitrary_dataset_indices = np.random.choice(dataset.shape[0], n_bundles, replace=False)\n",
    "    \n",
    "    # picking the random centroids from the above obtained random indices\n",
    "    for index in arbitrary_dataset_indices:\n",
    "        pivots.append(dataset[index])\n",
    "\n",
    "    # now we iterate through major steps where we create clusters, update centroids and check wether we picked the best centroids\n",
    "    while i < repeat_max:\n",
    "        bundles = make_bundles(n_bundles, dataset, pivots)\n",
    "        \n",
    "        # storing centroids before updating them\n",
    "        old_pivots = pivots\n",
    "        # updating centroids\n",
    "        pivots = updated_pivots(n_bundles, dataset, bundles)\n",
    "\n",
    "        # checking if there's any difference between the old centroids and new centroids\n",
    "        if check_for_variance(n_bundles, old_pivots, pivots):\n",
    "            break\n",
    "        # this loop repeats itself until we find the best centroids\n",
    "        i = i+1\n",
    "    \n",
    "    # we are now making predictions from 0 to 9\n",
    "    clabs = np.empty(dataset.shape[0])\n",
    "    for bundle_index, bundle in enumerate(bundles):\n",
    "        for n_sample_index in bundle:\n",
    "            clabs[n_sample_index] = bundle_index\n",
    "    return clabs, bundles, pivots\n",
    "        \n"
   ]
  },
  {
   "cell_type": "markdown",
   "metadata": {},
   "source": [
    "#### function to plot graph after applying k means clustering"
   ]
  },
  {
   "cell_type": "code",
   "execution_count": 88,
   "metadata": {},
   "outputs": [],
   "source": [
    "def plot_graph(_dataset, ppreds, pivotsp):\n",
    "    plt.title('Result after applying kmeans clustering')\n",
    "    # defining the colors list to pick from \n",
    "    colors =['cyan', 'blue', 'green']\n",
    "    # we iterate 3 times as there are 3 clusters in this program\n",
    "    for i in range(3):\n",
    "        # using scatter function to plot scatter graph\n",
    "        plt.scatter(_dataset[ppreds == i, 0], _dataset[ppreds == i, 1], s = 30, marker = '2', c = colors[i], label = 'Cluster'+str(i+1))\n",
    "    # now we are plotting the centroids\n",
    "    plt.scatter(pivotsp[:, 0], pivotsp[:, 1], s = 70, marker='^', c = 'red', label = 'Centroids')\n",
    "    plt.legend()\n",
    "    plt.show()"
   ]
  },
  {
   "cell_type": "markdown",
   "metadata": {},
   "source": [
    "#### loading data from text file"
   ]
  },
  {
   "cell_type": "code",
   "execution_count": 89,
   "metadata": {},
   "outputs": [
    {
     "name": "stdout",
     "output_type": "stream",
     "text": [
      "Shape of the dataset before performing dimensionality reduction: (150, 4)\n",
      "\n"
     ]
    }
   ],
   "source": [
    "# reading the dataset from text file and saving it into variable as float data type\n",
    "dataset = pd.read_csv(\"test_file_iris.txt\", header=None, dtype='float', sep=\" \")\n",
    "# converting the pandas dataframe to numpy array\n",
    "dataset = dataset.to_numpy()\n",
    "\n",
    "print(\"Shape of the dataset before performing dimensionality reduction: {}\\n\".format(dataset.shape))"
   ]
  },
  {
   "cell_type": "markdown",
   "metadata": {},
   "source": [
    "#### using tsne a dimensionality reduction technique for reducing dimensionality of the data"
   ]
  },
  {
   "cell_type": "code",
   "execution_count": 90,
   "metadata": {},
   "outputs": [
    {
     "name": "stderr",
     "output_type": "stream",
     "text": [
      "/Users/sripathch/Library/Python/3.9/lib/python/site-packages/sklearn/manifold/_t_sne.py:800: FutureWarning: The default initialization in TSNE will change from 'random' to 'pca' in 1.2.\n",
      "  warnings.warn(\n",
      "/Users/sripathch/Library/Python/3.9/lib/python/site-packages/sklearn/manifold/_t_sne.py:810: FutureWarning: The default learning rate in TSNE will change from 200.0 to 'auto' in 1.2.\n",
      "  warnings.warn(\n"
     ]
    },
    {
     "name": "stdout",
     "output_type": "stream",
     "text": [
      "Shape of the dataset after performing dimensionality reduction: (150, 2)\n",
      "\n"
     ]
    }
   ],
   "source": [
    "# initializing the tsne reducer\n",
    "dim_reduce = TSNE(n_components=2, perplexity=10)\n",
    "# transforming the data into 2 dimension using tsne\n",
    "tsne_dataset = dim_reduce.fit_transform(dataset)\n",
    "\n",
    "print(\"Shape of the dataset after performing dimensionality reduction: {}\\n\".format(tsne_dataset.shape))"
   ]
  },
  {
   "cell_type": "markdown",
   "metadata": {},
   "source": [
    "#### initializing the variables and calling the k meas function"
   ]
  },
  {
   "cell_type": "code",
   "execution_count": 91,
   "metadata": {},
   "outputs": [],
   "source": [
    "pivots = []\n",
    "# max number of iterations\n",
    "repeat_max = 50\n",
    "# given number of clusters in this implemenation are 3\n",
    "n_bundles = 3\n",
    "# calling kmeans function\n",
    "preds, bundles_plot, pivots_plot = k_means(tsne_dataset, n_bundles, pivots, repeat_max)"
   ]
  },
  {
   "cell_type": "markdown",
   "metadata": {},
   "source": [
    "#### calling the function to plot the clusters and centroids after k means"
   ]
  },
  {
   "cell_type": "code",
   "execution_count": 92,
   "metadata": {},
   "outputs": [
    {
     "data": {
      "image/png": "[encoded data removed]",
      "text/plain": [
       "<Figure size 640x480 with 1 Axes>"
      ]
     },
     "metadata": {},
     "output_type": "display_data"
    }
   ],
   "source": [
    "# calling plot functio to plot the graph\n",
    "plot_graph(tsne_dataset, preds, pivots_plot)"
   ]
  },
  {
   "cell_type": "markdown",
   "metadata": {},
   "source": [
    "#### defining a function to calculate the means squared error for the elbow graph"
   ]
  },
  {
   "cell_type": "code",
   "execution_count": 93,
   "metadata": {},
   "outputs": [],
   "source": [
    "def sserror(_lpreds,_preds):\n",
    "  # intializing sum to zero for adding later\n",
    "  sum = 0 \n",
    "  size_of_lpreds = len(_lpreds) \n",
    "  for i in range (1, size_of_lpreds):\n",
    "    # calculating the difference between the predicted values for 10 clusters and the values of clutsers from 2 to 20\n",
    "    diff = _lpreds[i] - _preds[i]  \n",
    "    # squaring the difference\n",
    "    sdiff = diff**2 \n",
    "    # adding to the sum\n",
    "    sum = sum + sdiff \n",
    "  # returning the mean \n",
    "  return sum/size_of_lpreds  "
   ]
  },
  {
   "cell_type": "markdown",
   "metadata": {},
   "source": [
    "#### getting distortions/error for plotting the elbow graph for k values from 2 to 20 with an increment of 2"
   ]
  },
  {
   "cell_type": "code",
   "execution_count": 94,
   "metadata": {},
   "outputs": [],
   "source": [
    "# initializing distortion/ differences list\n",
    "dtort = []\n",
    "lbow_pivots = []\n",
    "# defining the k values\n",
    "k_values = [2,4,6,8,10,12,14,16,18,20]\n",
    "for value in k_values:\n",
    "    # finding error for every k value\n",
    "    lpreds, lbundles_plot, lpivots_plot = k_means(tsne_dataset, value, lbow_pivots, repeat_max) \n",
    "    # appending it to the list cerated above\n",
    "    dtort.append(sserror(lpreds,preds))"
   ]
  },
  {
   "cell_type": "markdown",
   "metadata": {},
   "source": [
    "#### plotting elbow curve for k values"
   ]
  },
  {
   "cell_type": "code",
   "execution_count": 95,
   "metadata": {},
   "outputs": [
    {
     "data": {
      "image/png": "[encoded data removed]",
      "text/plain": [
       "<Figure size 640x480 with 1 Axes>"
      ]
     },
     "metadata": {},
     "output_type": "display_data"
    }
   ],
   "source": [
    "# plotting the elbow curve for best possible value of k\n",
    "plt.figure()\n",
    "plt.title('Elbow curve for values of k')\n",
    "plt.xlabel('K Values')\n",
    "plt.ylabel('squared error')\n",
    "plt.plot(k_values, dtort, 'c--d')\n",
    "plt.show()"
   ]
  },
  {
   "cell_type": "markdown",
   "metadata": {},
   "source": [
    "#### writing the predicted values by k means algorithm into a text file"
   ]
  },
  {
   "cell_type": "code",
   "execution_count": 96,
   "metadata": {},
   "outputs": [],
   "source": [
    "# opening a file using file object to print preds made by the algorithm\n",
    "file = open(\"kmeans_preds.txt\", \"w\")\n",
    "\n",
    "# using for loop to loop through prediction values\n",
    "for pred in preds:\n",
    "        file.write(str(int(pred+1))+\"\\n\")\n",
    "\n",
    "# closing file object after pritning\n",
    "file.close()"
   ]
  }
 ],
 "metadata": {
  "kernelspec": {
   "display_name": "Python 3.9.6 64-bit",
   "language": "python",
   "name": "python3"
  },
  "language_info": {
   "codemirror_mode": {
    "name": "ipython",
    "version": 3
   },
   "file_extension": ".py",
   "mimetype": "text/x-python",
   "name": "python",
   "nbconvert_exporter": "python",
   "pygments_lexer": "ipython3",
   "version": "3.9.6"
  },
  "orig_nbformat": 4,
  "vscode": {
   "interpreter": {
    "hash": "31f2aee4e71d21fbe5cf8b01ff0e069b9275f58929596ceb00d14d90e3e16cd6"
   }
  }
 },
 "nbformat": 4,
 "nbformat_minor": 2
}
